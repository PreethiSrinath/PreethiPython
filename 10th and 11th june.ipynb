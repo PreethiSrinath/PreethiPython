{
 "cells": [
  {
   "cell_type": "code",
   "execution_count": 81,
   "id": "bfb91fd7",
   "metadata": {},
   "outputs": [],
   "source": [
    "import re"
   ]
  },
  {
   "cell_type": "code",
   "execution_count": 32,
   "id": "0a81a4cb",
   "metadata": {},
   "outputs": [
    {
     "name": "stdout",
     "output_type": "stream",
     "text": [
      "Hi, my email id is preethikrishnan@gmail.com\n"
     ]
    }
   ],
   "source": [
    "se= 'Hi, my email id is preethikrishnan@gmail.com'\n",
    "print(se)"
   ]
  },
  {
   "cell_type": "code",
   "execution_count": 33,
   "id": "237b35a3",
   "metadata": {},
   "outputs": [],
   "source": [
    "regex = '[a-z]@gmail.com'"
   ]
  },
  {
   "cell_type": "code",
   "execution_count": 34,
   "id": "64cdaa1a",
   "metadata": {},
   "outputs": [
    {
     "data": {
      "text/plain": [
       "['n@gmail.com']"
      ]
     },
     "execution_count": 34,
     "metadata": {},
     "output_type": "execute_result"
    }
   ],
   "source": [
    "re.findall(regex, se)"
   ]
  },
  {
   "cell_type": "code",
   "execution_count": 35,
   "id": "dfbf8f81",
   "metadata": {},
   "outputs": [],
   "source": [
    "regex = '[a-z]*@gmail.com'"
   ]
  },
  {
   "cell_type": "code",
   "execution_count": 36,
   "id": "2259e0e2",
   "metadata": {},
   "outputs": [
    {
     "data": {
      "text/plain": [
       "['preethikrishnan@gmail.com']"
      ]
     },
     "execution_count": 36,
     "metadata": {},
     "output_type": "execute_result"
    }
   ],
   "source": [
    "re.findall(regex, se)"
   ]
  },
  {
   "cell_type": "code",
   "execution_count": 37,
   "id": "635c0e26",
   "metadata": {},
   "outputs": [
    {
     "data": {
      "text/plain": [
       "'Hi, my email id is preethikrishnan.91@gmail.com'"
      ]
     },
     "execution_count": 37,
     "metadata": {},
     "output_type": "execute_result"
    }
   ],
   "source": [
    "newse='Hi, my email id is preethikrishnan.91@gmail.com'\n",
    "newse"
   ]
  },
  {
   "cell_type": "code",
   "execution_count": 60,
   "id": "ccd0b7a0",
   "metadata": {},
   "outputs": [],
   "source": [
    "regex= '[a-z0-9.]{3}@gmail.com'"
   ]
  },
  {
   "cell_type": "code",
   "execution_count": 61,
   "id": "aef44d98",
   "metadata": {},
   "outputs": [
    {
     "data": {
      "text/plain": [
       "['.91@gmail.com']"
      ]
     },
     "execution_count": 61,
     "metadata": {},
     "output_type": "execute_result"
    }
   ],
   "source": [
    "re.findall(regex, newse)"
   ]
  },
  {
   "cell_type": "code",
   "execution_count": 53,
   "id": "d886864d",
   "metadata": {},
   "outputs": [
    {
     "data": {
      "text/plain": [
       "['Mr. Srinath']"
      ]
     },
     "execution_count": 53,
     "metadata": {},
     "output_type": "execute_result"
    }
   ],
   "source": [
    "sen='Mr. Srinath is going to South Africa in the month of july'\n",
    "regex= 'Mr[.]? [A-Z][a-z]*'\n",
    "re.findall(regex, sen)"
   ]
  },
  {
   "cell_type": "code",
   "execution_count": 69,
   "id": "793bbff6",
   "metadata": {},
   "outputs": [
    {
     "data": {
      "text/plain": [
       "['Mr. Srinath is']"
      ]
     },
     "execution_count": 69,
     "metadata": {},
     "output_type": "execute_result"
    }
   ],
   "source": [
    "sen='Mr. Srinath is going to South Africa in the month of july'\n",
    "regex= 'Mr. [A-Za-z.]{5,10} [a-z]{2}'\n",
    "re.findall(regex, sen)"
   ]
  },
  {
   "cell_type": "code",
   "execution_count": 83,
   "id": "1143473c",
   "metadata": {},
   "outputs": [
    {
     "name": "stdout",
     "output_type": "stream",
     "text": [
      "Enter your name and mobile number: Srinath and 9449839331\n"
     ]
    },
    {
     "data": {
      "text/plain": [
       "['9449839331']"
      ]
     },
     "execution_count": 83,
     "metadata": {},
     "output_type": "execute_result"
    }
   ],
   "source": [
    "u=input(\"Enter your name and mobile number: \")\n",
    "re.findall('[0-9]{10}', u)"
   ]
  },
  {
   "cell_type": "code",
   "execution_count": 87,
   "id": "eefb5c88",
   "metadata": {},
   "outputs": [
    {
     "data": {
      "text/plain": [
       "['6361-949-788']"
      ]
     },
     "execution_count": 87,
     "metadata": {},
     "output_type": "execute_result"
    }
   ],
   "source": [
    "s='Hello my number is 6361-949-788'\n",
    "reg='[0-9]{4}-[0-9]{3}-[0-9]{3}'\n",
    "re.findall(reg, s)"
   ]
  },
  {
   "cell_type": "code",
   "execution_count": null,
   "id": "6847c5d6",
   "metadata": {},
   "outputs": [],
   "source": []
  }
 ],
 "metadata": {
  "kernelspec": {
   "display_name": "Python 3 (ipykernel)",
   "language": "python",
   "name": "python3"
  },
  "language_info": {
   "codemirror_mode": {
    "name": "ipython",
    "version": 3
   },
   "file_extension": ".py",
   "mimetype": "text/x-python",
   "name": "python",
   "nbconvert_exporter": "python",
   "pygments_lexer": "ipython3",
   "version": "3.10.9"
  }
 },
 "nbformat": 4,
 "nbformat_minor": 5
}
